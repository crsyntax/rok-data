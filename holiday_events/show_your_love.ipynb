{
 "cells": [
  {
   "cell_type": "markdown",
   "metadata": {
    "toc-hr-collapsed": false
   },
   "source": [
    "# 'Show Your Love' Holiday Event"
   ]
  },
  {
   "cell_type": "code",
   "execution_count": 1,
   "metadata": {},
   "outputs": [],
   "source": [
    "import pandas as pd\n",
    "import matplotlib.pyplot as plt\n",
    "import scipy.stats"
   ]
  },
  {
   "cell_type": "markdown",
   "metadata": {},
   "source": [
    "## Load data"
   ]
  },
  {
   "cell_type": "code",
   "execution_count": 2,
   "metadata": {},
   "outputs": [],
   "source": [
    "df_req = pd.read_excel('data/show_your_love.xlsm', sheet_name='requirements')\n",
    "df_req['cumsum'] = df_req['xp'].cumsum()\n",
    "df_count = pd.read_excel('data/show_your_love.xlsm', sheet_name='batch')\n",
    "df_prev = pd.DataFrame({'points': [1,2,3,4,5,6,7,8,9,10],\n",
    "                        'count': [289, 131, 57, 0, 17, 0, 0, 6, 0, 0]})\n",
    "df_prev['proportion'] = df_prev['count']/500"
   ]
  },
  {
   "cell_type": "markdown",
   "metadata": {},
   "source": [
    "## Event requirements\n",
    "\n",
    "From the event info page we can see how many points we need to complete all 25 levels. In this case we need 2888, which is the same number as the previous event (Valentine's Day)"
   ]
  },
  {
   "cell_type": "code",
   "execution_count": 3,
   "metadata": {},
   "outputs": [
    {
     "data": {
      "text/plain": [
       "2888"
      ]
     },
     "execution_count": 3,
     "metadata": {},
     "output_type": "execute_result"
    }
   ],
   "source": [
    "df_req['xp'].sum()"
   ]
  },
  {
   "cell_type": "markdown",
   "metadata": {},
   "source": [
    "## Data collection\n",
    "\n",
    "For this analysis I collected and used 800 items (Carnations) from multiple accounts, each starting at Level 1. Below you can see the frequency with which each item gave a certain number of points"
   ]
  },
  {
   "cell_type": "code",
   "execution_count": 4,
   "metadata": {},
   "outputs": [
    {
     "data": {
      "text/html": [
       "<div>\n",
       "<style scoped>\n",
       "    .dataframe tbody tr th:only-of-type {\n",
       "        vertical-align: middle;\n",
       "    }\n",
       "\n",
       "    .dataframe tbody tr th {\n",
       "        vertical-align: top;\n",
       "    }\n",
       "\n",
       "    .dataframe thead th {\n",
       "        text-align: right;\n",
       "    }\n",
       "</style>\n",
       "<table border=\"1\" class=\"dataframe\">\n",
       "  <thead>\n",
       "    <tr style=\"text-align: right;\">\n",
       "      <th></th>\n",
       "      <th>points</th>\n",
       "      <th>count</th>\n",
       "      <th>proportion</th>\n",
       "    </tr>\n",
       "  </thead>\n",
       "  <tbody>\n",
       "    <tr>\n",
       "      <th>0</th>\n",
       "      <td>1</td>\n",
       "      <td>481</td>\n",
       "      <td>0.60125</td>\n",
       "    </tr>\n",
       "    <tr>\n",
       "      <th>1</th>\n",
       "      <td>2</td>\n",
       "      <td>202</td>\n",
       "      <td>0.25250</td>\n",
       "    </tr>\n",
       "    <tr>\n",
       "      <th>2</th>\n",
       "      <td>3</td>\n",
       "      <td>90</td>\n",
       "      <td>0.11250</td>\n",
       "    </tr>\n",
       "    <tr>\n",
       "      <th>3</th>\n",
       "      <td>4</td>\n",
       "      <td>0</td>\n",
       "      <td>0.00000</td>\n",
       "    </tr>\n",
       "    <tr>\n",
       "      <th>4</th>\n",
       "      <td>5</td>\n",
       "      <td>19</td>\n",
       "      <td>0.02375</td>\n",
       "    </tr>\n",
       "    <tr>\n",
       "      <th>5</th>\n",
       "      <td>6</td>\n",
       "      <td>0</td>\n",
       "      <td>0.00000</td>\n",
       "    </tr>\n",
       "    <tr>\n",
       "      <th>6</th>\n",
       "      <td>7</td>\n",
       "      <td>0</td>\n",
       "      <td>0.00000</td>\n",
       "    </tr>\n",
       "    <tr>\n",
       "      <th>7</th>\n",
       "      <td>8</td>\n",
       "      <td>8</td>\n",
       "      <td>0.01000</td>\n",
       "    </tr>\n",
       "    <tr>\n",
       "      <th>8</th>\n",
       "      <td>9</td>\n",
       "      <td>0</td>\n",
       "      <td>0.00000</td>\n",
       "    </tr>\n",
       "    <tr>\n",
       "      <th>9</th>\n",
       "      <td>10</td>\n",
       "      <td>0</td>\n",
       "      <td>0.00000</td>\n",
       "    </tr>\n",
       "  </tbody>\n",
       "</table>\n",
       "</div>"
      ],
      "text/plain": [
       "   points  count  proportion\n",
       "0       1    481     0.60125\n",
       "1       2    202     0.25250\n",
       "2       3     90     0.11250\n",
       "3       4      0     0.00000\n",
       "4       5     19     0.02375\n",
       "5       6      0     0.00000\n",
       "6       7      0     0.00000\n",
       "7       8      8     0.01000\n",
       "8       9      0     0.00000\n",
       "9      10      0     0.00000"
      ]
     },
     "execution_count": 4,
     "metadata": {},
     "output_type": "execute_result"
    }
   ],
   "source": [
    "df_count['proportion'] = df_count['count']/800\n",
    "df_count"
   ]
  },
  {
   "cell_type": "code",
   "execution_count": 5,
   "metadata": {},
   "outputs": [
    {
     "data": {
      "image/png": "[encoded data removed]",
      "text/plain": [
       "<Figure size 432x288 with 1 Axes>"
      ]
     },
     "metadata": {
      "needs_background": "light"
     },
     "output_type": "display_data"
    }
   ],
   "source": [
    "plt.bar(df_count['points'], df_count['count'], edgecolor='k')\n",
    "plt.xticks(df_count['points'])\n",
    "plt.xlabel('Points')\n",
    "plt.ylabel('Frequency')\n",
    "plt.title('Show Your Love')\n",
    "plt.savefig('plots/show_your_love.png')\n",
    "plt.show()"
   ]
  },
  {
   "cell_type": "markdown",
   "metadata": {},
   "source": [
    "Below you can see the data from the previous holiday event:"
   ]
  },
  {
   "cell_type": "code",
   "execution_count": 6,
   "metadata": {},
   "outputs": [
    {
     "data": {
      "text/html": [
       "<div>\n",
       "<style scoped>\n",
       "    .dataframe tbody tr th:only-of-type {\n",
       "        vertical-align: middle;\n",
       "    }\n",
       "\n",
       "    .dataframe tbody tr th {\n",
       "        vertical-align: top;\n",
       "    }\n",
       "\n",
       "    .dataframe thead th {\n",
       "        text-align: right;\n",
       "    }\n",
       "</style>\n",
       "<table border=\"1\" class=\"dataframe\">\n",
       "  <thead>\n",
       "    <tr style=\"text-align: right;\">\n",
       "      <th></th>\n",
       "      <th>points</th>\n",
       "      <th>count</th>\n",
       "      <th>proportion</th>\n",
       "    </tr>\n",
       "  </thead>\n",
       "  <tbody>\n",
       "    <tr>\n",
       "      <th>0</th>\n",
       "      <td>1</td>\n",
       "      <td>289</td>\n",
       "      <td>0.578</td>\n",
       "    </tr>\n",
       "    <tr>\n",
       "      <th>1</th>\n",
       "      <td>2</td>\n",
       "      <td>131</td>\n",
       "      <td>0.262</td>\n",
       "    </tr>\n",
       "    <tr>\n",
       "      <th>2</th>\n",
       "      <td>3</td>\n",
       "      <td>57</td>\n",
       "      <td>0.114</td>\n",
       "    </tr>\n",
       "    <tr>\n",
       "      <th>3</th>\n",
       "      <td>4</td>\n",
       "      <td>0</td>\n",
       "      <td>0.000</td>\n",
       "    </tr>\n",
       "    <tr>\n",
       "      <th>4</th>\n",
       "      <td>5</td>\n",
       "      <td>17</td>\n",
       "      <td>0.034</td>\n",
       "    </tr>\n",
       "    <tr>\n",
       "      <th>5</th>\n",
       "      <td>6</td>\n",
       "      <td>0</td>\n",
       "      <td>0.000</td>\n",
       "    </tr>\n",
       "    <tr>\n",
       "      <th>6</th>\n",
       "      <td>7</td>\n",
       "      <td>0</td>\n",
       "      <td>0.000</td>\n",
       "    </tr>\n",
       "    <tr>\n",
       "      <th>7</th>\n",
       "      <td>8</td>\n",
       "      <td>6</td>\n",
       "      <td>0.012</td>\n",
       "    </tr>\n",
       "    <tr>\n",
       "      <th>8</th>\n",
       "      <td>9</td>\n",
       "      <td>0</td>\n",
       "      <td>0.000</td>\n",
       "    </tr>\n",
       "    <tr>\n",
       "      <th>9</th>\n",
       "      <td>10</td>\n",
       "      <td>0</td>\n",
       "      <td>0.000</td>\n",
       "    </tr>\n",
       "  </tbody>\n",
       "</table>\n",
       "</div>"
      ],
      "text/plain": [
       "   points  count  proportion\n",
       "0       1    289       0.578\n",
       "1       2    131       0.262\n",
       "2       3     57       0.114\n",
       "3       4      0       0.000\n",
       "4       5     17       0.034\n",
       "5       6      0       0.000\n",
       "6       7      0       0.000\n",
       "7       8      6       0.012\n",
       "8       9      0       0.000\n",
       "9      10      0       0.000"
      ]
     },
     "execution_count": 6,
     "metadata": {},
     "output_type": "execute_result"
    }
   ],
   "source": [
    "df_prev"
   ]
  },
  {
   "cell_type": "code",
   "execution_count": 7,
   "metadata": {},
   "outputs": [
    {
     "data": {
      "image/png": "[encoded data removed]",
      "text/plain": [
       "<Figure size 432x288 with 1 Axes>"
      ]
     },
     "metadata": {
      "needs_background": "light"
     },
     "output_type": "display_data"
    }
   ],
   "source": [
    "plt.bar(df_prev['points'], df_prev['count'], edgecolor='k')\n",
    "plt.xticks(df_prev['points'])\n",
    "plt.xlabel('Points')\n",
    "plt.ylabel('Frequency')\n",
    "plt.title('Pledge of Thorns')\n",
    "plt.savefig('plots/pledge_of_thorns.png')\n",
    "plt.show()"
   ]
  },
  {
   "cell_type": "markdown",
   "metadata": {},
   "source": [
    "The point distributions across the two events look very similar and suggests that the critical hit probabilities have not been changed\n",
    "\n",
    "Although not conclusive, the data also strongly suggests that 4, 6, 7, 9, and 10x critical hits are not possible, as none were observed in either event"
   ]
  },
  {
   "cell_type": "markdown",
   "metadata": {},
   "source": [
    "## Probabilities"
   ]
  },
  {
   "cell_type": "markdown",
   "metadata": {},
   "source": [
    "The expected value of a single item is the sum of the point values weighted by their probability. As we derived probabilities from a sample, the expected value will be equal to the mean\n",
    "\n",
    "For the Valentine's event, the expected value of each item was 1.71 points:"
   ]
  },
  {
   "cell_type": "code",
   "execution_count": 8,
   "metadata": {},
   "outputs": [
    {
     "data": {
      "text/plain": [
       "1.71"
      ]
     },
     "execution_count": 8,
     "metadata": {},
     "output_type": "execute_result"
    }
   ],
   "source": [
    "sum(df_prev['points']*df_prev['proportion'])"
   ]
  },
  {
   "cell_type": "code",
   "execution_count": 9,
   "metadata": {},
   "outputs": [
    {
     "data": {
      "text/plain": [
       "1.71"
      ]
     },
     "execution_count": 9,
     "metadata": {},
     "output_type": "execute_result"
    }
   ],
   "source": [
    "sum(df_prev['points']*df_prev['count'])/500"
   ]
  },
  {
   "cell_type": "markdown",
   "metadata": {},
   "source": [
    "For the current event, Show Your Love, we can calculate the expected value from our newly collected data, which gives us a value of 1.64"
   ]
  },
  {
   "cell_type": "code",
   "execution_count": 10,
   "metadata": {},
   "outputs": [
    {
     "data": {
      "text/plain": [
       "1.6425"
      ]
     },
     "execution_count": 10,
     "metadata": {},
     "output_type": "execute_result"
    }
   ],
   "source": [
    "sum(df_count['points']*df_count['proportion'])"
   ]
  },
  {
   "cell_type": "code",
   "execution_count": 11,
   "metadata": {},
   "outputs": [
    {
     "data": {
      "text/plain": [
       "1.6425"
      ]
     },
     "execution_count": 11,
     "metadata": {},
     "output_type": "execute_result"
    }
   ],
   "source": [
    "sum(df_count['points']*df_count['count'])/800"
   ]
  },
  {
   "cell_type": "markdown",
   "metadata": {},
   "source": [
    "### How many items do we need?"
   ]
  },
  {
   "cell_type": "markdown",
   "metadata": {},
   "source": [
    "If we need a total of 2888 points, and each item provides an average of 1.64 points, then the total number of items needed is 1758:"
   ]
  },
  {
   "cell_type": "code",
   "execution_count": 12,
   "metadata": {},
   "outputs": [
    {
     "data": {
      "text/plain": [
       "1758.2952815829528"
      ]
     },
     "execution_count": 12,
     "metadata": {},
     "output_type": "execute_result"
    }
   ],
   "source": [
    "2888/1.6425"
   ]
  },
  {
   "cell_type": "markdown",
   "metadata": {},
   "source": [
    "This is higher than the estimated number of items required for the previous event for two (related) reasons:\n",
    "- In the new event there is a higher probability of the low value 1x crits (i.e. non-crits), and a lower probability of the higher value critical hits (e.g. 3x, 5x, 8x). Overall, this reduces the point value per item for this event\n",
    "- We have a larger sample size for this analysis, so while it's possible that the probability distribution was adjusted slightly, it's also possible that the data analysis for the previous event was less precise due to having less data\n",
    "\n",
    "Overall, we're still looking at 1600-1800 required items for event completion"
   ]
  },
  {
   "cell_type": "markdown",
   "metadata": {},
   "source": [
    "Both the chi square and Kolmogorov-Smirnov tests (below) suggest that the 2 datasets come from the same distribution, and thus the differences we observed above are simply due to difference in sample size/precision. In other words, it's unlikely that the probability distribution of points was changed between the two events"
   ]
  },
  {
   "cell_type": "code",
   "execution_count": 13,
   "metadata": {},
   "outputs": [
    {
     "data": {
      "text/plain": [
       "(1.6769893710965125,\n",
       " 0.79489316704061408,\n",
       " 4,\n",
       " array([[ 473.84615385,  296.15384615],\n",
       "        [ 204.92307692,  128.07692308],\n",
       "        [  90.46153846,   56.53846154],\n",
       "        [  22.15384615,   13.84615385],\n",
       "        [   8.61538462,    5.38461538]]))"
      ]
     },
     "execution_count": 13,
     "metadata": {},
     "output_type": "execute_result"
    }
   ],
   "source": [
    "df1 = df_count[['points', 'count']]\n",
    "df1['sample'] = 'love'\n",
    "\n",
    "df2 = df_prev[['points', 'count']]\n",
    "df2['sample'] = 'pledge'\n",
    "\n",
    "cont = df1.append(df2).reset_index(drop=True)\n",
    "cont = cont[cont['count'] != 0]\n",
    "cont = cont.pivot(index='points', columns='sample')\n",
    "\n",
    "scipy.stats.chi2_contingency(cont['count'])"
   ]
  },
  {
   "cell_type": "code",
   "execution_count": 14,
   "metadata": {},
   "outputs": [
    {
     "data": {
      "text/plain": [
       "Ks_2sampResult(statistic=0.20000000000000007, pvalue=0.99962170605358336)"
      ]
     },
     "execution_count": 14,
     "metadata": {},
     "output_type": "execute_result"
    }
   ],
   "source": [
    "obs = df_prev[df_prev['count'] != 0]['proportion']\n",
    "exp = df_count[df_count['count'] != 0]['proportion']\n",
    "scipy.stats.ks_2samp(obs, exp)"
   ]
  },
  {
   "cell_type": "markdown",
   "metadata": {},
   "source": [
    "# 'Show Your Love' Points over time"
   ]
  },
  {
   "cell_type": "code",
   "execution_count": 15,
   "metadata": {},
   "outputs": [],
   "source": [
    "df_single = pd.read_excel('data/show_your_love.xlsm', sheet_name='singles')"
   ]
  },
  {
   "cell_type": "markdown",
   "metadata": {},
   "source": [
    "## Descriptives"
   ]
  },
  {
   "cell_type": "code",
   "execution_count": 16,
   "metadata": {},
   "outputs": [
    {
     "name": "stdout",
     "output_type": "stream",
     "text": [
      "Number of items used: 364\n",
      "Total points gained: 2339\n"
     ]
    }
   ],
   "source": [
    "print(f'Number of items used: {df_single[\"item_id\"].max()}')\n",
    "print(f'Total points gained: {df_single[\"points\"].max() - df_single[\"points\"].min()}')"
   ]
  },
  {
   "cell_type": "markdown",
   "metadata": {},
   "source": [
    "## Frequencies"
   ]
  },
  {
   "cell_type": "code",
   "execution_count": 17,
   "metadata": {},
   "outputs": [
    {
     "data": {
      "text/plain": [
       "gain\n",
       "1.0     35\n",
       "2.0     19\n",
       "3.0     15\n",
       "4.0     27\n",
       "5.0     27\n",
       "6.0     33\n",
       "7.0     43\n",
       "8.0     56\n",
       "9.0     49\n",
       "10.0    59\n",
       "dtype: int64"
      ]
     },
     "execution_count": 17,
     "metadata": {},
     "output_type": "execute_result"
    }
   ],
   "source": [
    "df_single_count = df_single.groupby('gain').size()\n",
    "df_single_count"
   ]
  },
  {
   "cell_type": "code",
   "execution_count": 22,
   "metadata": {},
   "outputs": [
    {
     "data": {
      "image/png": "[encoded data removed]",
      "text/plain": [
       "<Figure size 432x288 with 1 Axes>"
      ]
     },
     "metadata": {
      "needs_background": "light"
     },
     "output_type": "display_data"
    }
   ],
   "source": [
    "plt.bar(df_single_count.index, df_single_count, edgecolor='k')\n",
    "plt.xticks(df_single_count.index)\n",
    "plt.xlabel('Points')\n",
    "plt.ylabel('Frequency')\n",
    "plt.title('Show Your Love Full Point Frequency')\n",
    "plt.savefig('plots/show_your_love_singles.png')\n",
    "plt.show()"
   ]
  },
  {
   "cell_type": "markdown",
   "metadata": {},
   "source": [
    "## Points over time"
   ]
  },
  {
   "cell_type": "code",
   "execution_count": 19,
   "metadata": {},
   "outputs": [
    {
     "data": {
      "image/png": "[encoded data removed]",
      "text/plain": [
       "<Figure size 432x288 with 1 Axes>"
      ]
     },
     "metadata": {
      "needs_background": "light"
     },
     "output_type": "display_data"
    }
   ],
   "source": [
    "plt.plot(df_single['item_id'], df_single['points'])\n",
    "\n",
    "for index, row in df_req.iterrows():\n",
    "    if row['cumsum'] > df_single['points'].min():\n",
    "        plt.axhline(row['cumsum'], color='k', alpha=0.2,\n",
    "                    linewidth=1, linestyle='--')\n",
    "        plt.annotate(f'Level {row[\"level\"]}', (0, row['cumsum']), size=8, alpha=0.5)\n",
    "\n",
    "plt.title('Points over time')\n",
    "plt.xlabel('Item #')\n",
    "plt.ylabel('Total Points')\n",
    "#plt.tight_layout()\n",
    "plt.savefig('plots/show_your_love_time.png')\n",
    "plt.show()"
   ]
  },
  {
   "cell_type": "markdown",
   "metadata": {},
   "source": [
    "## Critical hits over time"
   ]
  },
  {
   "cell_type": "code",
   "execution_count": 20,
   "metadata": {},
   "outputs": [
    {
     "data": {
      "image/png": "[encoded data removed]",
      "text/plain": [
       "<Figure size 432x288 with 1 Axes>"
      ]
     },
     "metadata": {
      "needs_background": "light"
     },
     "output_type": "display_data"
    }
   ],
   "source": [
    "plt.scatter(df_single['item_id'], df_single['gain'], alpha=0.5)\n",
    "plt.title('Critical hits over time')\n",
    "plt.xlabel('Item #')\n",
    "plt.ylabel('Critical Hit Value')\n",
    "#plt.tight_layout()\n",
    "plt.savefig('plots/show_your_love_crits.png')\n",
    "plt.show()"
   ]
  },
  {
   "cell_type": "markdown",
   "metadata": {},
   "source": [
    "## Average points per item over time"
   ]
  },
  {
   "cell_type": "code",
   "execution_count": 21,
   "metadata": {},
   "outputs": [
    {
     "data": {
      "image/png": "[encoded data removed]",
      "text/plain": [
       "<Figure size 720x432 with 1 Axes>"
      ]
     },
     "metadata": {
      "needs_background": "light"
     },
     "output_type": "display_data"
    }
   ],
   "source": [
    "bucket_size = 50\n",
    "x_labels = []\n",
    "y = []\n",
    "y_err = []\n",
    "\n",
    "for tmp in np.array_split(df_single, range(bucket_size, len(df_single), bucket_size)):\n",
    "    x_labels.append('{}-{}'.format(tmp['item_id'].min(), tmp['item_id'].max()))\n",
    "    y.append(tmp['gain'].mean())\n",
    "    y_err.append(tmp['gain'].sem())\n",
    "    \n",
    "y = np.asarray(y)\n",
    "y_err = np.asarray(y_err)\n",
    "\n",
    "fig, ax = plt.subplots(figsize=(10,6))\n",
    "ax.plot(range(len(x_labels)), y, color='k')\n",
    "ax.fill_between(range(len(x_labels)), y-y_err, y+y_err, alpha=0.2)\n",
    "ax.set_xticks(np.arange(0, len(x_labels)))\n",
    "ax.set_xticklabels(x_labels)\n",
    "ax.tick_params(axis='x', labelrotation=90)\n",
    "ax.set_xlabel('Item group')\n",
    "ax.set_ylabel('Mean points per item')\n",
    "plt.title('Average points over time')\n",
    "plt.savefig('plots/show_your_love_point_buckets.png')\n",
    "plt.show()"
   ]
  }
 ],
 "metadata": {
  "kernelspec": {
   "display_name": "Python 3",
   "language": "python",
   "name": "python3"
  },
  "language_info": {
   "codemirror_mode": {
    "name": "ipython",
    "version": 3
   },
   "file_extension": ".py",
   "mimetype": "text/x-python",
   "name": "python",
   "nbconvert_exporter": "python",
   "pygments_lexer": "ipython3",
   "version": "3.6.6"
  },
  "toc-autonumbering": true,
  "toc-showcode": false,
  "toc-showmarkdowntxt": false
 },
 "nbformat": 4,
 "nbformat_minor": 2
}
